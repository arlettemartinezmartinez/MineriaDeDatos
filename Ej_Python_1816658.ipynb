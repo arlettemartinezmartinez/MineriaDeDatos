{
 "cells": [
  {
   "cell_type": "markdown",
   "metadata": {},
   "source": [
    "Ejercicio 1:\n",
    "Realiza una variable con tu matricula y realiza una secuencia de imprimir con tu nombre y tu matricula concatenados."
   ]
  },
  {
   "cell_type": "code",
   "execution_count": 1,
   "metadata": {},
   "outputs": [
    {
     "name": "stdout",
     "output_type": "stream",
     "text": [
      "1816658 Arlette Martinez Martinez\n"
     ]
    }
   ],
   "source": [
    "Matricula = 1816658\n",
    "print(Matricula, \"Arlette Martinez Martinez\")"
   ]
  },
  {
   "cell_type": "markdown",
   "metadata": {},
   "source": [
    "Ejercicio 2:\n",
    "Pidiendo el input del usuario pide dos números y crea una pequeña calculadora con los operadores básicos de suma, resta, multiplicación, división, y exponente."
   ]
  },
  {
   "cell_type": "code",
   "execution_count": 12,
   "metadata": {},
   "outputs": [
    {
     "name": "stdout",
     "output_type": "stream",
     "text": [
      "CALCULADORA\n",
      "(1) Suma\n",
      "(2) Resta\n",
      "(3) Multiplicación\n",
      "(4) División\n",
      "(5) Exponente\n",
      "Ingrese numero de operador: 2\n",
      "Introduce el minuendo numero: 5\n",
      "Introduce el sustraendo numero: 4\n",
      "El resultado es:  1.0\n"
     ]
    }
   ],
   "source": [
    "print(\"CALCULADORA\")\n",
    "print(\"(1) Suma\\n(2) Resta\\n(3) Multiplicación\\n(4) División\\n(5) Exponente\")\n",
    "operador = int(input(\"Ingrese numero de operador: \"))\n",
    "if operador == 1:\n",
    "    a = float(input(\"Introduce el primer numero: \"))\n",
    "    b = float(input(\"Introduce el segundo numero: \"))\n",
    "    resultado = a + b\n",
    "elif operador == 2:\n",
    "    a = float(input(\"Introduce el minuendo numero: \"))\n",
    "    b = float(input(\"Introduce el sustraendo numero: \"))\n",
    "    resultado = a - b\n",
    "elif operador == 3:\n",
    "    a = float(input(\"Introduce el primer numero: \"))\n",
    "    b = float(input(\"Introduce el segundo numero: \"))\n",
    "    resultado = a * b\n",
    "elif operador == 4:\n",
    "    a = float(input(\"Introduce el dividendo numero: \"))\n",
    "    b = float(input(\"Introduce el divisor numero: \"))\n",
    "    resultado = a / b\n",
    "elif operador == 5:\n",
    "    a = float(input(\"Introduce el numero base: \"))\n",
    "    b = float(input(\"Introduce el numero exponente: \"))\n",
    "    resultado = a ** b\n",
    "else:\n",
    "    print(\"Opción no válida\")\n",
    "print(\"El resultado es: \", resultado)"
   ]
  },
  {
   "cell_type": "markdown",
   "metadata": {},
   "source": [
    "Ejercicio 3:\n",
    "Con loop while o for, realiza una lista de 10 numeros multiplos de 3, y después realiza una función de loop que sume todos los números dentro del arreglo."
   ]
  },
  {
   "cell_type": "code",
   "execution_count": 11,
   "metadata": {},
   "outputs": [
    {
     "name": "stdout",
     "output_type": "stream",
     "text": [
      "La lista es:  [3, 6, 9, 12, 15, 18, 21, 24, 27, 30]\n",
      "La suma es:  165\n"
     ]
    }
   ],
   "source": [
    "lista = []\n",
    "j = 0\n",
    "suma = 0\n",
    "for i in range(1,11):\n",
    "    lista.append(i*3)\n",
    "print(\"La lista es: \", lista)\n",
    "while j<len(lista):\n",
    "    suma += lista[j]\n",
    "    j+= 1\n",
    "print(\"La suma es: \", suma)"
   ]
  },
  {
   "cell_type": "markdown",
   "metadata": {},
   "source": [
    "Ejercicio 4\n",
    "Con una función de if else, revisar si un número es par o es impar.\n",
    "Con una función de if else, revisar si un número es primo o no."
   ]
  },
  {
   "cell_type": "code",
   "execution_count": 16,
   "metadata": {},
   "outputs": [
    {
     "name": "stdout",
     "output_type": "stream",
     "text": [
      "Ingrese un número entero: 5\n",
      "El numero es impar\n",
      "El numero es primo\n"
     ]
    }
   ],
   "source": [
    "primo = True\n",
    "numero = int(input(\"Ingrese un número entero: \"))\n",
    "if numero % 2 == 0:\n",
    "    print(\"El numero es par\")\n",
    "else:\n",
    "    print(\"El numero es impar\")\n",
    "for i in range(2,numero):\n",
    "    if numero % i  == 0 :\n",
    "        primo = False\n",
    "        pint(\"El número no es primo\")\n",
    "if primo == True:\n",
    "    print(\"El numero es primo\")"
   ]
  },
  {
   "cell_type": "markdown",
   "metadata": {},
   "source": [
    "Ejercicio 5\n",
    "Utilizando diferentes clases en python, crea una calculadora con los operadores básicos de suma, resta, multiplicación, división, y exponente."
   ]
  },
  {
   "cell_type": "code",
   "execution_count": 32,
   "metadata": {},
   "outputs": [
    {
     "name": "stdout",
     "output_type": "stream",
     "text": [
      "5.0\n",
      "9.0\n",
      "1.0\n",
      "1.0\n",
      "1.0\n",
      "1.0\n"
     ]
    }
   ],
   "source": [
    "class Operaciones:\n",
    "    a = 0\n",
    "    b = 0\n",
    "    \n",
    "    def suma(self):\n",
    "        print(a)\n",
    "        print(a + b)\n",
    "\n",
    "    def resta(self):\n",
    "        print(a - b)\n",
    "    \n",
    "    def multiplicacion(self):\n",
    "        print(a * b)\n",
    "    \n",
    "    def division(self):\n",
    "        print(a / b)\n",
    "    \n",
    "    def exponente(self):\n",
    "        print(a ** b)\n",
    "\n",
    "Calculadora = Operaciones()\n",
    "Calculadora.a = 4\n",
    "Calculadora.b = 6\n",
    "Calculadora.suma()\n",
    "Calculadora.resta()\n",
    "Calculadora.resta()\n",
    "Calculadora.resta()\n",
    "Calculadora.resta()\n",
    "\n"
   ]
  },
  {
   "cell_type": "markdown",
   "metadata": {},
   "source": [
    "Ejercicios con estructuras básicas de python."
   ]
  },
  {
   "cell_type": "markdown",
   "metadata": {},
   "source": [
    "Tuplas\n",
    "Crear una variable flotante, integer, boleana y compleja e imprimir el tipo de variable que es.\n",
    "\n",
    "Crear una tupla con valores enteros imprimir el primer y ultimo valor.\n",
    "\n",
    "Añadir 3 valores de string a la tupla.\n",
    "\n",
    "Verificar si una variable existe dentro de la tupla."
   ]
  },
  {
   "cell_type": "code",
   "execution_count": 42,
   "metadata": {},
   "outputs": [
    {
     "name": "stdout",
     "output_type": "stream",
     "text": [
      "<class 'float'>\n",
      "<class 'int'>\n",
      "<class 'bool'>\n",
      "<class 'complex'>\n",
      "1 5\n",
      "(1, 2, 3, 4, 5, 'String1', 'String2', 'String3')\n",
      "Ingrese valor de la variable3\n",
      "El  3.0  si esta dentro de la tupla\n"
     ]
    }
   ],
   "source": [
    "flotante = 1.345\n",
    "entero = 5\n",
    "boleana = True\n",
    "compleja = 3+6j\n",
    "print(type(flotante))\n",
    "print(type(entero))\n",
    "print(type(boleana))\n",
    "print(type(compleja))\n",
    "\n",
    "tupla = (1,2,3,4,5)\n",
    "print(tupla[0], tupla[len(tupla)-1])\n",
    "\n",
    "lista = list(tupla)\n",
    "lista.append(\"String1\")\n",
    "lista.append(\"String2\")\n",
    "lista.append(\"String3\")\n",
    "tuplaNueva = tuple(lista)\n",
    "print(tuplaNueva)\n",
    "\n",
    "variable = float(input(\"Ingrese valor de la variable\"))\n",
    "for i in tuplaNueva:\n",
    "    if i == variable:\n",
    "        print(\"El \",variable,\" si esta dentro de la tupla\")"
   ]
  },
  {
   "cell_type": "markdown",
   "metadata": {},
   "source": [
    "Listas\n",
    "Crear una lista con 40 elementos aleatorios enteros.\n",
    "\n",
    "Con una funcion (def) crear dos listas nuevas a partir de la lista creada por numeros aleatorios, en la cual en una esten los elementos pares, y en la otra los elementos impares.\n",
    "\n",
    "Crear dos variables con la longitud de ambas listas nuevas e imprimir las variables.\n",
    "\n",
    "Ordenar los elementos de la lista par de mayor a menor, y los de la lista impar de menor a mayor.\n",
    "\n",
    "Utilizar al menos cuatro de las funciones de listas en python en la lista original de 40 elementos."
   ]
  },
  {
   "cell_type": "code",
   "execution_count": 68,
   "metadata": {},
   "outputs": [
    {
     "name": "stdout",
     "output_type": "stream",
     "text": [
      "Lista de numeros aleatorios enteros:  [854, 455, 145, 745, 843, 656, 884, 257, 276, 494, 719, 284, 877, 834, 213, 781, 939, 259, 414, 327, 609, 700, 791, 529, 283, 900, 43, 991, 815, 19, 608, 612, 319, 689, 266, 401, 585, 346, 416, 408]\n",
      "\n",
      "Lista de números pares:  [996, 986, 884, 678, 662, 660, 570, 502, 466, 394, 248, 180, 164, 138, 32]\n",
      "\n",
      "Lista de números impares:  [3, 5, 15, 15, 39, 59, 67, 111, 145, 159, 199, 265, 277, 389, 415, 451, 569, 573, 745, 757, 869, 911, 929, 951, 955]\n",
      "\n",
      "Cantidad de pares:  15 \n",
      "Cantidad de impares:  25\n",
      "\n",
      "Lista de pares ordenada de mayor a menor:  [996, 986, 884, 678, 662, 660, 570, 502, 466, 394, 248, 180, 164, 138, 32]\n",
      "\n",
      "Lista de pares ordenada de mayor a menor:  [3, 5, 15, 15, 39, 59, 67, 111, 145, 159, 199, 265, 277, 389, 415, 451, 569, 573, 745, 757, 869, 911, 929, 951, 955]\n",
      "\n",
      "Lista agregando Hola:  [854, 455, 145, 'Hola', 745, 843, 656, 884, 257, 276, 494, 719, 284, 877, 834, 213, 781, 939, 259, 414, 327, 609, 700, 791, 529, 283, 900, 43, 991, 815, 19, 608, 612, 319, 689, 266, 401, 585, 346, 416, 408]\n",
      "\n",
      "El indice de la palabra Hola es:  3\n",
      "\n",
      "Lista nuevamente sin la palabra Hola:  [854, 455, 145, 745, 843, 656, 884, 257, 276, 494, 719, 284, 877, 834, 213, 781, 939, 259, 414, 327, 609, 700, 791, 529, 283, 900, 43, 991, 815, 19, 608, 612, 319, 689, 266, 401, 585, 346, 416, 408]\n",
      "\n",
      "La suma de los elementos de la lista es:  21586\n"
     ]
    }
   ],
   "source": [
    "import random as r\n",
    "lista = []\n",
    "for i in range(0,40):\n",
    "    lista.append(r.randint(1, 1000))\n",
    "print(\"Lista de numeros aleatorios enteros: \",lista)\n",
    "\n",
    "def CreadorListas():\n",
    "    listaPares = []\n",
    "    listaImpares = []\n",
    "    for j in lista:\n",
    "        if j % 2 == 0:\n",
    "            listaPares.append(j)\n",
    "        else:\n",
    "            listaImpares.append(j)\n",
    "print(\"\\nLista de números pares: \", listaPares)\n",
    "print(\"\\nLista de números impares: \", listaImpares)\n",
    "CreadorListas()\n",
    "\n",
    "longitudListaPares = len(listaPares)\n",
    "longitudListaImpares = len(listaImpares)\n",
    "print(\"\\nCantidad de pares: \",longitudListaPares, \"\\nCantidad de impares: \",longitudListaImpares)\n",
    "\n",
    "listaPares.sort()\n",
    "listaPares.reverse()\n",
    "print(\"\\nLista de pares ordenada de mayor a menor: \", listaPares)\n",
    "listaImpares.sort()\n",
    "print(\"\\nLista de pares ordenada de mayor a menor: \", listaImpares)\n",
    "\n",
    "lista.insert(3,\"Hola\")\n",
    "print(\"\\nLista agregando Hola: \",lista)\n",
    "indice = lista.index(\"Hola\")\n",
    "print(\"\\nEl indice de la palabra Hola es: \",indice)\n",
    "lista.pop(indice)\n",
    "print(\"\\nLista nuevamente sin la palabra Hola: \",lista)\n",
    "print(\"\\nLa suma de los elementos de la lista es: \", sum(lista))\n"
   ]
  },
  {
   "cell_type": "code",
   "execution_count": null,
   "metadata": {},
   "outputs": [],
   "source": []
  }
 ],
 "metadata": {
  "kernelspec": {
   "display_name": "Python 3",
   "language": "python",
   "name": "python3"
  },
  "language_info": {
   "codemirror_mode": {
    "name": "ipython",
    "version": 3
   },
   "file_extension": ".py",
   "mimetype": "text/x-python",
   "name": "python",
   "nbconvert_exporter": "python",
   "pygments_lexer": "ipython3",
   "version": "3.8.5"
  }
 },
 "nbformat": 4,
 "nbformat_minor": 4
}
