{
 "cells": [
  {
   "cell_type": "markdown",
   "metadata": {},
   "source": [
    "Ejercicio 1:\n",
    "Realiza una variable con tu matricula y realiza una secuencia de imprimir con tu nombre y tu matricula concatenados."
   ]
  },
  {
   "cell_type": "code",
   "execution_count": 2,
   "metadata": {},
   "outputs": [
    {
     "name": "stdout",
     "output_type": "stream",
     "text": [
      "1816658 Arlette Martinez Martinez\n"
     ]
    }
   ],
   "source": [
    "Matricula = 1816658\n",
    "print(Matricula, \"Arlette Martinez Martinez\")"
   ]
  },
  {
   "cell_type": "markdown",
   "metadata": {},
   "source": [
    "Ejercicio 2:\n",
    "Pidiendo el input del usuario pide dos números y crea una pequeña calculadora con los operadores básicos de suma, resta, multiplicación, división, y exponente."
   ]
  },
  {
   "cell_type": "code",
   "execution_count": 12,
   "metadata": {},
   "outputs": [
    {
     "name": "stdout",
     "output_type": "stream",
     "text": [
      "CALCULADORA\n",
      "(1) Suma\n",
      "(2) Resta\n",
      "(3) Multiplicación\n",
      "(4) División\n",
      "(5) Exponente\n",
      "Ingrese numero de operador: 2\n",
      "Introduce el minuendo numero: 5\n",
      "Introduce el sustraendo numero: 4\n",
      "El resultado es:  1.0\n"
     ]
    }
   ],
   "source": [
    "print(\"CALCULADORA\")\n",
    "print(\"(1) Suma\\n(2) Resta\\n(3) Multiplicación\\n(4) División\\n(5) Exponente\")\n",
    "operador = int(input(\"Ingrese numero de operador: \"))\n",
    "if operador == 1:\n",
    "    a = float(input(\"Introduce el primer numero: \"))\n",
    "    b = float(input(\"Introduce el segundo numero: \"))\n",
    "    resultado = a + b\n",
    "elif operador == 2:\n",
    "    a = float(input(\"Introduce el minuendo numero: \"))\n",
    "    b = float(input(\"Introduce el sustraendo numero: \"))\n",
    "    resultado = a - b\n",
    "elif operador == 3:\n",
    "    a = float(input(\"Introduce el primer numero: \"))\n",
    "    b = float(input(\"Introduce el segundo numero: \"))\n",
    "    resultado = a * b\n",
    "elif operador == 4:\n",
    "    a = float(input(\"Introduce el dividendo numero: \"))\n",
    "    b = float(input(\"Introduce el divisor numero: \"))\n",
    "    resultado = a / b\n",
    "elif operador == 5:\n",
    "    a = float(input(\"Introduce el numero base: \"))\n",
    "    b = float(input(\"Introduce el numero exponente: \"))\n",
    "    resultado = a ** b\n",
    "else:\n",
    "    print(\"Opción no válida\")\n",
    "print(\"El resultado es: \", resultado)"
   ]
  },
  {
   "cell_type": "markdown",
   "metadata": {},
   "source": [
    "Ejercicio 3:\n",
    "Con loop while o for, realiza una lista de 10 numeros multiplos de 3, y después realiza una función de loop que sume todos los números dentro del arreglo."
   ]
  },
  {
   "cell_type": "code",
   "execution_count": 11,
   "metadata": {},
   "outputs": [
    {
     "name": "stdout",
     "output_type": "stream",
     "text": [
      "La lista es:  [3, 6, 9, 12, 15, 18, 21, 24, 27, 30]\n",
      "La suma es:  165\n"
     ]
    }
   ],
   "source": [
    "lista = []\n",
    "j = 0\n",
    "suma = 0\n",
    "for i in range(1,11):\n",
    "    lista.append(i*3)\n",
    "print(\"La lista es: \", lista)\n",
    "while j<len(lista):\n",
    "    suma += lista[j]\n",
    "    j+= 1\n",
    "print(\"La suma es: \", suma)"
   ]
  },
  {
   "cell_type": "markdown",
   "metadata": {},
   "source": [
    "Ejercicio 4\n",
    "Con una función de if else, revisar si un número es par o es impar.\n",
    "Con una función de if else, revisar si un número es primo o no."
   ]
  },
  {
   "cell_type": "code",
   "execution_count": 16,
   "metadata": {},
   "outputs": [
    {
     "name": "stdout",
     "output_type": "stream",
     "text": [
      "Ingrese un número entero: 5\n",
      "El numero es impar\n",
      "El numero es primo\n"
     ]
    }
   ],
   "source": [
    "primo = True\n",
    "numero = int(input(\"Ingrese un número entero: \"))\n",
    "if numero % 2 == 0:\n",
    "    print(\"El numero es par\")\n",
    "else:\n",
    "    print(\"El numero es impar\")\n",
    "for i in range(2,numero):\n",
    "    if numero % i  == 0 :\n",
    "        primo = False\n",
    "        pint(\"El número no es primo\")\n",
    "if primo == True:\n",
    "    print(\"El numero es primo\")"
   ]
  },
  {
   "cell_type": "markdown",
   "metadata": {},
   "source": [
    "Ejercicio 5\n",
    "Utilizando diferentes clases en python, crea una calculadora con los operadores básicos de suma, resta, multiplicación, división, y exponente."
   ]
  },
  {
   "cell_type": "code",
   "execution_count": 60,
   "metadata": {},
   "outputs": [
    {
     "name": "stdout",
     "output_type": "stream",
     "text": [
      "5\n",
      "1\n",
      "6\n",
      "1.5\n",
      "9\n"
     ]
    }
   ],
   "source": [
    "class Operaciones:\n",
    "    def __init__(self, n1, n2):\n",
    "        self.a = n1\n",
    "        self.b = n2\n",
    "    \n",
    "    def suma(self):\n",
    "        print(self.a + self.b)\n",
    "\n",
    "    def resta(self):\n",
    "        print(self.a - self.b)\n",
    "    \n",
    "    def multiplicacion(self):\n",
    "        print(self.a * self.b)\n",
    "    \n",
    "    def division(self):\n",
    "        print(self.a / self.b)\n",
    "    \n",
    "    def exponente(self):\n",
    "        print(self.a ** self.b)\n",
    "\n",
    "Calculadora = Operaciones(3,2)\n",
    "Calculadora.suma()\n",
    "Calculadora.resta()\n",
    "Calculadora.multiplicacion()\n",
    "Calculadora.division()\n",
    "Calculadora.exponente()"
   ]
  },
  {
   "cell_type": "markdown",
   "metadata": {},
   "source": [
    "Ejercicios con estructuras básicas de python."
   ]
  },
  {
   "cell_type": "markdown",
   "metadata": {},
   "source": [
    "Tuplas\n",
    "\n",
    "Crear una variable flotante, integer, boleana y compleja e imprimir el tipo de variable que es.\n",
    "\n",
    "Crear una tupla con valores enteros imprimir el primer y ultimo valor.\n",
    "\n",
    "Añadir 3 valores de string a la tupla.\n",
    "\n",
    "Verificar si una variable existe dentro de la tupla."
   ]
  },
  {
   "cell_type": "code",
   "execution_count": 2,
   "metadata": {},
   "outputs": [
    {
     "name": "stdout",
     "output_type": "stream",
     "text": [
      "<class 'float'>\n",
      "<class 'int'>\n",
      "<class 'bool'>\n",
      "<class 'complex'>\n",
      "Tupla:  (1, 2, 3, 4, 5)\n",
      "Primer valor:  1\n",
      "Ultimo Valor 5\n",
      "(1, 2, 3, 4, 5, 'String1', 'String2', 'String3')\n",
      "Ingrese valor de la variable3\n",
      "El  3.0  si esta dentro de la tupla\n"
     ]
    }
   ],
   "source": [
    "flotante = 1.345\n",
    "entero = 5\n",
    "boleana = True\n",
    "compleja = 3+6j\n",
    "print(type(flotante))\n",
    "print(type(entero))\n",
    "print(type(boleana))\n",
    "print(type(compleja))\n",
    "\n",
    "tupla = (1,2,3,4,5)\n",
    "print(\"Tupla: \", tupla)\n",
    "print(\"Primer valor: \",tupla[0])\n",
    "print(\"Ultimo Valor\", tupla[len(tupla)-1])\n",
    "\n",
    "lista = list(tupla)\n",
    "lista.append(\"String1\")\n",
    "lista.append(\"String2\")\n",
    "lista.append(\"String3\")\n",
    "tuplaNueva = tuple(lista)\n",
    "print(tuplaNueva)\n",
    "\n",
    "variable = float(input(\"Ingrese valor de la variable\"))\n",
    "for i in tuplaNueva:\n",
    "    if i == variable:\n",
    "        print(\"El \",variable,\" si esta dentro de la tupla\")"
   ]
  },
  {
   "cell_type": "markdown",
   "metadata": {},
   "source": [
    "Listas\n",
    "\n",
    "Crear una lista con 40 elementos aleatorios enteros.\n",
    "\n",
    "Con una funcion (def) crear dos listas nuevas a partir de la lista creada por numeros aleatorios, en la cual en una esten los elementos pares, y en la otra los elementos impares.\n",
    "\n",
    "Crear dos variables con la longitud de ambas listas nuevas e imprimir las variables.\n",
    "\n",
    "Ordenar los elementos de la lista par de mayor a menor, y los de la lista impar de menor a mayor.\n",
    "\n",
    "Utilizar al menos cuatro de las funciones de listas en python en la lista original de 40 elementos."
   ]
  },
  {
   "cell_type": "code",
   "execution_count": 68,
   "metadata": {},
   "outputs": [
    {
     "name": "stdout",
     "output_type": "stream",
     "text": [
      "Lista de numeros aleatorios enteros:  [854, 455, 145, 745, 843, 656, 884, 257, 276, 494, 719, 284, 877, 834, 213, 781, 939, 259, 414, 327, 609, 700, 791, 529, 283, 900, 43, 991, 815, 19, 608, 612, 319, 689, 266, 401, 585, 346, 416, 408]\n",
      "\n",
      "Lista de números pares:  [996, 986, 884, 678, 662, 660, 570, 502, 466, 394, 248, 180, 164, 138, 32]\n",
      "\n",
      "Lista de números impares:  [3, 5, 15, 15, 39, 59, 67, 111, 145, 159, 199, 265, 277, 389, 415, 451, 569, 573, 745, 757, 869, 911, 929, 951, 955]\n",
      "\n",
      "Cantidad de pares:  15 \n",
      "Cantidad de impares:  25\n",
      "\n",
      "Lista de pares ordenada de mayor a menor:  [996, 986, 884, 678, 662, 660, 570, 502, 466, 394, 248, 180, 164, 138, 32]\n",
      "\n",
      "Lista de pares ordenada de mayor a menor:  [3, 5, 15, 15, 39, 59, 67, 111, 145, 159, 199, 265, 277, 389, 415, 451, 569, 573, 745, 757, 869, 911, 929, 951, 955]\n",
      "\n",
      "Lista agregando Hola:  [854, 455, 145, 'Hola', 745, 843, 656, 884, 257, 276, 494, 719, 284, 877, 834, 213, 781, 939, 259, 414, 327, 609, 700, 791, 529, 283, 900, 43, 991, 815, 19, 608, 612, 319, 689, 266, 401, 585, 346, 416, 408]\n",
      "\n",
      "El indice de la palabra Hola es:  3\n",
      "\n",
      "Lista nuevamente sin la palabra Hola:  [854, 455, 145, 745, 843, 656, 884, 257, 276, 494, 719, 284, 877, 834, 213, 781, 939, 259, 414, 327, 609, 700, 791, 529, 283, 900, 43, 991, 815, 19, 608, 612, 319, 689, 266, 401, 585, 346, 416, 408]\n",
      "\n",
      "La suma de los elementos de la lista es:  21586\n"
     ]
    }
   ],
   "source": [
    "import random as r\n",
    "lista = []\n",
    "for i in range(0,40):\n",
    "    lista.append(r.randint(1, 1000))\n",
    "print(\"Lista de numeros aleatorios enteros: \",lista)\n",
    "\n",
    "def CreadorListas():\n",
    "    listaPares = []\n",
    "    listaImpares = []\n",
    "    for j in lista:\n",
    "        if j % 2 == 0:\n",
    "            listaPares.append(j)\n",
    "        else:\n",
    "            listaImpares.append(j)\n",
    "print(\"\\nLista de números pares: \", listaPares)\n",
    "print(\"\\nLista de números impares: \", listaImpares)\n",
    "CreadorListas()\n",
    "\n",
    "longitudListaPares = len(listaPares)\n",
    "longitudListaImpares = len(listaImpares)\n",
    "print(\"\\nCantidad de pares: \",longitudListaPares, \"\\nCantidad de impares: \",longitudListaImpares)\n",
    "\n",
    "listaPares.sort()\n",
    "listaPares.reverse()\n",
    "print(\"\\nLista de pares ordenada de mayor a menor: \", listaPares)\n",
    "listaImpares.sort()\n",
    "print(\"\\nLista de pares ordenada de mayor a menor: \", listaImpares)\n",
    "\n",
    "lista.insert(3,\"Hola\")\n",
    "print(\"\\nLista agregando Hola: \",lista)\n",
    "indice = lista.index(\"Hola\")\n",
    "print(\"\\nEl indice de la palabra Hola es: \",indice)\n",
    "lista.pop(indice)\n",
    "print(\"\\nLista nuevamente sin la palabra Hola: \",lista)\n",
    "print(\"\\nLa suma de los elementos de la lista es: \", sum(lista))\n"
   ]
  },
  {
   "cell_type": "markdown",
   "metadata": {},
   "source": [
    "Diccionarios\n",
    "\n",
    "Crear un diccionario de 6 personas que conozcas con su primer nombre y su edad.\n",
    "\n",
    "Crear una lista con los valores de la edad y reacomodar la lista de menor a mayor valor.\n",
    "\n",
    "Usando el diccionario y un loop, imprimir solo los nombres.\n",
    "\n",
    "Añadir dos personas nuevas a tu diccionario, incluyendo edad."
   ]
  },
  {
   "cell_type": "code",
   "execution_count": 1,
   "metadata": {},
   "outputs": [
    {
     "name": "stdout",
     "output_type": "stream",
     "text": [
      "Diccionario:  {'Anel': 27, 'Leslie': 21, 'Alejandro': 61, 'Alma': 55, 'Anahi': 33, 'Ailyn': 11}\n",
      "Las edades son:  [11, 21, 27, 33, 55, 61]\n",
      "Anel\n",
      "Leslie\n",
      "Alejandro\n",
      "Alma\n",
      "Anahi\n",
      "Ailyn\n",
      "Diccionario con dos personas nuevas:  {'Anel': 27, 'Leslie': 21, 'Alejandro': 61, 'Alma': 55, 'Anahi': 33, 'Ailyn': 11, 'Natha': 21, 'Zully': 21}\n"
     ]
    }
   ],
   "source": [
    "Diccionario = {'Anel':27, 'Leslie':21, 'Alejandro':61, 'Alma':55, 'Anahi':33, 'Ailyn':11}\n",
    "print(\"Diccionario: \", Diccionario)\n",
    "\n",
    "listaEdades = list(Diccionario.values())\n",
    "listaEdades.sort()\n",
    "print(\"Las edades son: \",listaEdades)\n",
    "\n",
    "listaNombres = list(Diccionario.keys())\n",
    "i = 0\n",
    "while i != len(listaNombres):\n",
    "    print(listaNombres[i])\n",
    "    i += 1\n",
    "    \n",
    "Diccionario['Natha'] = 21\n",
    "Diccionario['Zully'] = 21\n",
    "print(\"Diccionario con dos personas nuevas: \", Diccionario)"
   ]
  },
  {
   "cell_type": "markdown",
   "metadata": {},
   "source": [
    "Sets\n",
    "\n",
    "Crea un set con 100 numeros aleatorios enteros del 1 al 25.\n",
    "\n",
    "Comprueba la longitud de tu set.\n",
    "\n",
    "Crea una lista de 5 numeros aleatorios del 1 al 10 y comprueba si cada valor aparece en el set inicial."
   ]
  },
  {
   "cell_type": "code",
   "execution_count": 49,
   "metadata": {},
   "outputs": [
    {
     "name": "stdout",
     "output_type": "stream",
     "text": [
      "El set es:  {1.9004538155529414, 1.82121640266225, 3.830020397924078, 3.7977879762716586, 5.196275445104961, 6.039582726186566, 6.717288192883401, 8.817301944219844, 9.711031235472312, 10.964192611292955, 11.551398682385392, 12.71585314762806, 6.037543251673492, 9.222592923051625, 14.754260890793326, 12.038238604436085, 17.4990798658364, 17.444685351430437, 14.345849701241207, 20.399335500832905, 21.65362528977745, 20.952262355633597, 23.309676934186598, 20.412345814574007, 18.273599911447697, 18.320852929510583, 24.310360341429284, 22.413266802424676, 23.79405364953043, 23.936094273863873, 6.754205495039329, 23.60125700934981, 24.810518832865817, 8.847091200481898, 8.517675932993683, 9.367099375572295, 9.579725813572573, 9.521183862499292, 11.625174464173952, 12.479164018610163, 12.498631752249004, 12.014019724703786, 1.5754357478012517, 1.3045014149259382, 14.48013089639823, 15.773913667634304, 3.24864360834171, 16.16897154306787, 3.8033931306266675, 4.226321042589491, 17.604436287669458, 5.454716128685264, 18.754632692003014, 18.823473251966348, 18.561288165978418, 6.851645815617908, 19.037324989748164, 20.95176812734774, 20.226642929694208, 21.51696882412974, 4.25649679473611, 7.468571909459834, 8.784686750997382, 8.745027154705179, 8.572202366006254, 2.672728287520978, 3.3390602409566013, 4.572570576739987, 7.347260479448752, 3.505381343104947, 5.549994228231409, 7.663045726149566, 7.246815937844044, 10.443305733523882, 11.09261337038517, 12.427048372798904, 1.7906166761228848, 15.709373314218585, 15.052919112193774, 17.485379036299133, 18.45275225368979, 18.849907333394267, 6.487685093849554, 19.347448064543602, 20.392689189282503, 20.479783995054593, 21.858219520894874, 21.091969498125327, 3.551200608023974, 3.9785308226475546, 7.822925227598416, 2.1872898051073477, 9.896735338885064, 10.763210159287615, 10.488543854805654, 12.958580258151605, 1.4287114827098497, 1.7830349983257952, 14.592374076694133, 1.7410589102554388}\n",
      "La longitud del set es:  100\n",
      "Lista de 5 numeros alteorios:  [9.003977249164153, 9.40188067790065, 1.3238189492861872, 4.444905157825804, 5.108067718908001]\n",
      "Ningun valor de la lista esta en el Set\n"
     ]
    }
   ],
   "source": [
    "import random as r\n",
    "Set = set({})\n",
    "while len(Set) != 100:\n",
    "    Set.add(r.uniform(1, 25))\n",
    "print(\"El set es: \", Set)\n",
    "\n",
    "print(\"La longitud del set es: \", len(Set))\n",
    "\n",
    "lista5 = []\n",
    "duplicado = False\n",
    "for i in range(0,5):\n",
    "    lista5.append(r.uniform(1, 10))\n",
    "print(\"Lista de 5 numeros alteorios: \", lista5)\n",
    "lista5NoDuplicados = list(set(lista5))\n",
    "for i in lista5NoDuplicados:\n",
    "    for j in Set:\n",
    "        if i == j:\n",
    "            duplicado = True\n",
    "            print(\"El valor \",i,\" esta en el Set\")\n",
    "if duplicado == False:\n",
    "    print(\"Ningun valor de la lista esta en el Set\")"
   ]
  },
  {
   "cell_type": "code",
   "execution_count": null,
   "metadata": {},
   "outputs": [],
   "source": []
  }
 ],
 "metadata": {
  "kernelspec": {
   "display_name": "Python 3",
   "language": "python",
   "name": "python3"
  },
  "language_info": {
   "codemirror_mode": {
    "name": "ipython",
    "version": 3
   },
   "file_extension": ".py",
   "mimetype": "text/x-python",
   "name": "python",
   "nbconvert_exporter": "python",
   "pygments_lexer": "ipython3",
   "version": "3.8.5"
  }
 },
 "nbformat": 4,
 "nbformat_minor": 4
}
